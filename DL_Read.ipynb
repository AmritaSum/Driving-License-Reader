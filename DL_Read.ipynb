{
 "cells": [
  {
   "cell_type": "code",
   "execution_count": 1,
   "metadata": {},
   "outputs": [],
   "source": [
    "import re #for splitting string"
   ]
  },
  {
   "cell_type": "code",
   "execution_count": 2,
   "metadata": {},
   "outputs": [],
   "source": [
    "import cv2 #openCV\n",
    "import glob\n",
    "import xlwt #for saving in excel\n",
    "from xlwt import Workbook\n",
    "wb = Workbook()\n",
    "sheet1 = wb.add_sheet('Sheet 1')\n",
    "row=1\n",
    "col=0\n",
    "sheet1.write(0,0,'Pic name')\n",
    "sheet1.write(0,1,'Reg no')\n",
    "sheet1.write(0,2,'Chassis no')\n",
    "sheet1.write(0,3,'Engine no')\n",
    "sheet1.write(0,4,'Name')\n",
    "sheet1.write(0,5,'Mfg Date')\n",
    "\n",
    "path = \"all states/*.jpg*\" # you can change the path of your pic here\n",
    "cv_img=[]\n",
    "for file in glob.glob(path):\n",
    "    \n",
    "    value= cv2.imread(file,cv2.IMREAD_GRAYSCALE)\n",
    "    cv_img.append(value)\n",
    "    sheet1.write(row,col,file)\n",
    "    row+=1\n",
    "    \n",
    "row=1\n"
   ]
  },
  {
   "cell_type": "code",
   "execution_count": 3,
   "metadata": {
    "jupyter": {
     "source_hidden": true
    }
   },
   "outputs": [],
   "source": [
    "#print(x)"
   ]
  },
  {
   "cell_type": "code",
   "execution_count": 4,
   "metadata": {},
   "outputs": [],
   "source": [
    "def splitting_string(x): #function for splitting of string\n",
    "    a=re.split('\\s|,|,\\s*|\\n|:',x)\n",
    "    return a\n"
   ]
  },
  {
   "cell_type": "code",
   "execution_count": 5,
   "metadata": {},
   "outputs": [],
   "source": [
    "#FUNCTION FOR FINDING REG NO\n",
    "def regno():\n",
    "    index=0\n",
    "    regno=\"Not found\"\n",
    "    for i in range(len(a)):\n",
    "        if a[i]==\"GOVERNMENT\":\n",
    "            if a[i+2]=='HARYANA':\n",
    "                index=i+2\n",
    "                p=11\n",
    "                break\n",
    "        p=10\n",
    "\n",
    "    for i in range(index,len(a)):\n",
    "        if len(a[i])==p and a[i][0:2].isalpha() and a[i][2:4].isnumeric():\n",
    "            regno=a[i]\n",
    "            break\n",
    "        elif ['AP','AR','AS','BR',\n",
    "                             'CH','DN','DD','DL',\n",
    "                             'GA','GJ','HR','HP',\n",
    "                             'JK','KA','KL','LD',\n",
    "                             'MP','MH','MN','ML',\n",
    "                             'MZ','NL','OR','PY',\n",
    "                             'PN','RJ','SK','TN',\n",
    "                             'TR','UP','WB'].count(a[i][0:2].upper())==1:\n",
    "            regno=a[i]+a[i+1]\n",
    "            break\n",
    "    return regno,index\n",
    "        \n",
    "\n",
    "    \n",
    "        "
   ]
  },
  {
   "cell_type": "code",
   "execution_count": 6,
   "metadata": {
    "jupyter": {
     "source_hidden": true
    }
   },
   "outputs": [],
   "source": [
    "#FIND CHASSIS NO\n",
    "#ch_no=\"Not Found\"\n",
    "#for i in range(index,len(a)):\n",
    "  #  if a[i].lower()=='ch.no':\n",
    "   #     ch_no=a[i+2]+(a[i+3])\n",
    "   #     break\n",
    "    #elif a[i].lower()=='ch.':\n",
    "     #   if len(a[i+3])>=15:\n",
    "      #      ch_no=a[i+3]\n",
    "       # else:\n",
    "        #    ch_no=a[i+3]+a[i+4]\n",
    "        #break\n",
    "    #elif a[i].lower()==\"chasis\" or a[i].lower()==\"chassis\":\n",
    "     #   ch_no=a[i+2]+(a[i+3]) \n",
    "      #  break\n",
    "    #elif len(a[i])>=17:\n",
    "     #   ch_no=a[i]\n",
    "      #  break\n",
    "#print(ch_no)\n"
   ]
  },
  {
   "cell_type": "code",
   "execution_count": 7,
   "metadata": {},
   "outputs": [],
   "source": [
    "#FUNCTION FOR FINDING CHASSIS NO\n",
    "def chno():\n",
    "    ch_no=\"Not Found\"\n",
    "    for i in range(index,len(a)):\n",
    "        x=a[i].lower()\n",
    "        if x=='ch.no'or x=='ch.' or x=='ch' or x=='chasis' or x=='chassis' or x=='chassis.':\n",
    "            d=i+1\n",
    "            while a[d].lower()==\" \"or a[d]==\"\"or a[d]=='+' or a[d]=='-' or a[d]=='—' or a[d].lower()==\":\" or a[d].lower()=='no' or a[d].lower()=='no:'or a[d].lower()=='=' or a[d].lower()=='no.' or a[d]=='_' or a[d]==\".\":\n",
    "                d=d+1\n",
    "            if len(a[d])<9:\n",
    "                ch_no=a[d]+a[d+1]\n",
    "            else:\n",
    "                ch_no=a[d]\n",
    "            break\n",
    "\n",
    "    return(ch_no)"
   ]
  },
  {
   "cell_type": "code",
   "execution_count": 8,
   "metadata": {
    "jupyter": {
     "source_hidden": true
    }
   },
   "outputs": [],
   "source": [
    "#FIND ENGINE NO\n",
    "#for i in range(index,len(a)):\n",
    "    #if a[i].lower()=='eno':\n",
    "        #e_no=a[i+2]\n",
    "        #break\n",
    "    ###elif a[i].lower()=='e':\n",
    "        #e_no=a[i+3]\n",
    "        #break###       \n",
    "    #elif a[i].lower()==\"engine\" :\n",
    "        #e_no=a[i+2]###           \n",
    "    \n",
    "#print(e_no)"
   ]
  },
  {
   "cell_type": "code",
   "execution_count": 9,
   "metadata": {},
   "outputs": [],
   "source": [
    "#FUNCTION FOR FINDING ENGINE NO\n",
    "def eno():\n",
    "    e_no=\"Not Found\"\n",
    "    for i in range(index,len(a)):\n",
    "        x=a[i].lower()\n",
    "        if x=='eno' or x=='e'or x=='engine':\n",
    "            d=i+1\n",
    "            while a[d].lower()==\" \"or a[d]=='.' or a[d]==\"\"or a[d]=='+' or a[d]=='-' or a[d]=='—' or a[d].lower()==\":\" or a[d].lower()=='no' or a[d].lower()=='no:'or a[d].lower()=='=' or a[d].lower()=='no.' or a[d]=='_':\n",
    "                d=d+1\n",
    "            e_no=a[d]\n",
    "            break\n",
    "\n",
    "    return(e_no)"
   ]
  },
  {
   "cell_type": "code",
   "execution_count": 10,
   "metadata": {},
   "outputs": [],
   "source": [
    "#FUNCTION FOR FINDING NAME\n",
    "def name():\n",
    "    name=\" not found\"\n",
    "    for i in range(index,len(a)):\n",
    "        if a[i].lower()=='name':\n",
    "            d=i+1\n",
    "            while a[d]=='&' or a[d]=='-'or a[d].lower()=='mr' or a[d].lower()=='mr.' or a[d].lower()=='address' or a[d]=='>' or a[d]=='=' or a[d]==' ' or a[d]==\"\" or a[d]=='_' or a[d]=='__' or a[d]==':' or a[d].lower()=='&*address':\n",
    "                d=d+1\n",
    "            name=a[d]\n",
    "            break\n",
    "    return(name)"
   ]
  },
  {
   "cell_type": "code",
   "execution_count": 11,
   "metadata": {},
   "outputs": [],
   "source": [
    "#FUNCTION FOR FINDING MANUFACTURING DATE\n",
    "def mfgdate():\n",
    "    mfg_date=\"Not Found\"\n",
    "    for i in range(index,len(a)):\n",
    "        x=a[i].lower()\n",
    "        if x=='mfg' or x=='mfg.'or x=='mfg.date'or x=='mfg.date.' or x==\"mfg.dt\" or x=='mfg.dt.'or x=='manufacture':\n",
    "            d=i+1\n",
    "            while a[d].lower()==\" \"or a[d]=='.' or a[d]==\"\"or a[d]=='+' or a[d]=='-' or a[d]=='—' or a[d].lower()==\":\" or a[d].lower()=='=' or a[d]=='_':\n",
    "                d=d+1\n",
    "            mfg_date=a[d]\n",
    "            break\n",
    "    return(mfg_date)"
   ]
  },
  {
   "cell_type": "code",
   "execution_count": 12,
   "metadata": {},
   "outputs": [],
   "source": [
    "#FUNCTION FOR Writing to excel\n",
    "def write_to_excel():\n",
    "    col=1\n",
    "    #sheet1.write(row,col,value)\n",
    "    #col+=1\n",
    "    sheet1.write(row,col,r)\n",
    "    col+=1\n",
    "    sheet1.write(row,col,c)\n",
    "    col+=1\n",
    "    sheet1.write(row,col,e)\n",
    "    col+=1\n",
    "    sheet1.write(row,col,n)\n",
    "    col+=1\n",
    "    sheet1.write(row,col,m)\n",
    "    col=1\n",
    "\n",
    "    "
   ]
  },
  {
   "cell_type": "code",
   "execution_count": 13,
   "metadata": {},
   "outputs": [],
   "source": [
    "from PIL import Image\n",
    "import pytesseract\n",
    "import numpy as np\n",
    "import matplotlib.pyplot as plt\n",
    "\n",
    "\n",
    "pytesseract.pytesseract.tesseract_cmd = (\n",
    "    r\"C:\\Program Files\\Tesseract-OCR\\tesseract\"\n",
    ") # add this path for tesseract to be located\n",
    "\n",
    "\n",
    "\n",
    "#config = ('-l eng --oem 1 --psm 3')\n",
    "col=1\n",
    "row=1\n",
    "for value in cv_img:\n",
    "    \n",
    "    \n",
    "#value=cv2.imread(\"txt_mudit_b8_1_513.jpg\",cv2.IMREAD_GRAYSCALE)\n",
    "    #kernel_sharpening=np.array([[-1,-1,-1],[-1, 9,-1],[-1,-1,-1]])\n",
    "    #sharpened=cv2.filter2D(value,-1,kernel_sharpening)\n",
    "    #_,thresh1=cv2.threshold(value,127,255,cv2.THRESH_BINARY)\n",
    "    #_,thresh2=cv2.threshold(value,127,255,cv2.THRESH_BINARY_INV)\n",
    "    _,thresh3=cv2.threshold(value,110,255,cv2.THRESH_TRUNC)\n",
    "    #print(pytesseract.image_to_string(thresh1))\n",
    "    x=pytesseract.image_to_string(thresh3)\n",
    "    a=splitting_string(x)\n",
    "    r,index=regno()\n",
    "    c=chno()\n",
    "    e=eno()\n",
    "    n=name()\n",
    "    m=mfgdate()\n",
    "    write_to_excel()\n",
    "    row+=1\n",
    "    "
   ]
  },
  {
   "cell_type": "code",
   "execution_count": 14,
   "metadata": {},
   "outputs": [],
   "source": [
    "wb.save('result.xls') "
   ]
  },
  {
   "cell_type": "code",
   "execution_count": null,
   "metadata": {},
   "outputs": [],
   "source": []
  }
 ],
 "metadata": {
  "kernelspec": {
   "display_name": "Python 3",
   "language": "python",
   "name": "python3"
  },
  "language_info": {
   "codemirror_mode": {
    "name": "ipython",
    "version": 3
   },
   "file_extension": ".py",
   "mimetype": "text/x-python",
   "name": "python",
   "nbconvert_exporter": "python",
   "pygments_lexer": "ipython3",
   "version": "3.7.3"
  }
 },
 "nbformat": 4,
 "nbformat_minor": 4
}
